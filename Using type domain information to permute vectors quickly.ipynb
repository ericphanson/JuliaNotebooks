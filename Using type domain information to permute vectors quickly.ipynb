{
 "cells": [
  {
   "cell_type": "code",
   "execution_count": 1,
   "metadata": {},
   "outputs": [
    {
     "name": "stdout",
     "output_type": "stream",
     "text": [
      "\u001b[32m\u001b[1m  Updating\u001b[22m\u001b[39m registry at `~/.julia/registries/General`\n",
      "\u001b[32m\u001b[1m  Updating\u001b[22m\u001b[39m git-repo `https://github.com/JuliaRegistries/General.git`\n",
      "\u001b[?25l\u001b[2K\u001b[?25h"
     ]
    }
   ],
   "source": [
    "using Pkg\n",
    "pkg\"activate .\"\n",
    "pkg\"instantiate\""
   ]
  },
  {
   "cell_type": "markdown",
   "metadata": {},
   "source": [
    "I am given a vector `v` of length `d` and wish to permute it according to some permutation `p`."
   ]
  },
  {
   "cell_type": "code",
   "execution_count": 2,
   "metadata": {},
   "outputs": [
    {
     "name": "stdout",
     "output_type": "stream",
     "text": [
      "d = 10\n",
      "v = [0.19897, 0.143348, 0.145023, 0.0891942, 0.572756, 0.537881, 0.264896, 0.956121, 0.909801, 0.386333]\n",
      "typeof(v) = Array{Float64,1}\n",
      "p = [3, 2, 7, 6, 9, 4, 1, 5, 10, 8]\n",
      "typeof(p) = Array{Int64,1}\n"
     ]
    }
   ],
   "source": [
    "d = 10\n",
    "@show d\n",
    "v = rand(10)\n",
    "@show v\n",
    "@show typeof(v)\n",
    "import Random\n",
    "p = Random.randperm(d)\n",
    "@show p\n",
    "@show typeof(p);"
   ]
  },
  {
   "cell_type": "markdown",
   "metadata": {},
   "source": [
    "Doing this permutation is easy with Julia's indexing:"
   ]
  },
  {
   "cell_type": "code",
   "execution_count": 3,
   "metadata": {},
   "outputs": [
    {
     "data": {
      "text/plain": [
       "10-element Array{Float64,1}:\n",
       " 0.14502310546324804\n",
       " 0.14334832301613387\n",
       " 0.2648959007333165 \n",
       " 0.5378812297108322 \n",
       " 0.9098005835242389 \n",
       " 0.0891942162577819 \n",
       " 0.19896973691987618\n",
       " 0.5727559441660186 \n",
       " 0.3863326895524921 \n",
       " 0.9561208200424756 "
      ]
     },
     "execution_count": 3,
     "metadata": {},
     "output_type": "execute_result"
    }
   ],
   "source": [
    "v[p]"
   ]
  },
  {
   "cell_type": "markdown",
   "metadata": {},
   "source": [
    "We can turn this into a function, which Julia will compile a method for based on the types of `v` and `p`."
   ]
  },
  {
   "cell_type": "code",
   "execution_count": 4,
   "metadata": {},
   "outputs": [
    {
     "name": "stdout",
     "output_type": "stream",
     "text": [
      "  0.027094 seconds (5.10 k allocations: 221.314 KiB)\n",
      "unstatic_sort(v, p) = [0.145023, 0.143348, 0.264896, 0.537881, 0.909801, 0.0891942, 0.19897, 0.572756, 0.386333, 0.956121]\n"
     ]
    }
   ],
   "source": [
    "unstatic_sort(v, p) = v[p]\n",
    "\n",
    "@time unstatic_sort(v, p)\n",
    "@show unstatic_sort(v, p);"
   ]
  },
  {
   "cell_type": "markdown",
   "metadata": {},
   "source": [
    "The `@time` macro shows us the time it took to run that function the first time, which includes compilation time. If want to properly benchmark it, we should use `BenchmarkTools.jl`."
   ]
  },
  {
   "cell_type": "code",
   "execution_count": 5,
   "metadata": {},
   "outputs": [
    {
     "name": "stdout",
     "output_type": "stream",
     "text": [
      "  76.139 ns (2 allocations: 176 bytes)\n"
     ]
    }
   ],
   "source": [
    "using BenchmarkTools\n",
    "@btime unstatic_sort($v, $p);"
   ]
  },
  {
   "cell_type": "markdown",
   "metadata": {},
   "source": [
    "But what if we want to sort many vectors with the same permutation? We can encode the permutation in the type domain and compile a specialized function to do this much faster. To make such a [value type](https://docs.julialang.org/en/v1/base/base/#Base.Val), our permutation must have `isbits(p) == true`."
   ]
  },
  {
   "cell_type": "code",
   "execution_count": 6,
   "metadata": {},
   "outputs": [
    {
     "data": {
      "text/plain": [
       "false"
      ]
     },
     "execution_count": 6,
     "metadata": {},
     "output_type": "execute_result"
    }
   ],
   "source": [
    "isbits(p)"
   ]
  },
  {
   "cell_type": "markdown",
   "metadata": {},
   "source": [
    "To remedy this, we could convert `p` to a tuple which has a static length, unlike a vector (which it currently is). However, then we won't be able to do the indexing trick of `v[p]` to permute the entries of the vector. Instead, we'll convert it to a `SVector` or static vector from `StaticArrays.jl`. This supports indexing like vectors, but is backed by a tuple of fixed length."
   ]
  },
  {
   "cell_type": "code",
   "execution_count": 7,
   "metadata": {},
   "outputs": [
    {
     "data": {
      "text/plain": [
       "10-element SArray{Tuple{10},Int64,1,10}:\n",
       "  3\n",
       "  2\n",
       "  7\n",
       "  6\n",
       "  9\n",
       "  4\n",
       "  1\n",
       "  5\n",
       " 10\n",
       "  8"
      ]
     },
     "execution_count": 7,
     "metadata": {},
     "output_type": "execute_result"
    }
   ],
   "source": [
    "using StaticArrays\n",
    "p_static = SVector{d}(p)"
   ]
  },
  {
   "cell_type": "code",
   "execution_count": 8,
   "metadata": {},
   "outputs": [
    {
     "data": {
      "text/plain": [
       "true"
      ]
     },
     "execution_count": 8,
     "metadata": {},
     "output_type": "execute_result"
    }
   ],
   "source": [
    "isbits(p_static)"
   ]
  },
  {
   "cell_type": "markdown",
   "metadata": {},
   "source": [
    "We can then create a function `static_sort` which dispatches to a different method for every permutation. We do this by replacing the second argument with a parametric type `Val{p}`. We can then create a value type from our `isbits` vector `p_static` and act our new function on it."
   ]
  },
  {
   "cell_type": "code",
   "execution_count": 9,
   "metadata": {},
   "outputs": [
    {
     "name": "stdout",
     "output_type": "stream",
     "text": [
      "  0.246776 seconds (284.86 k allocations: 14.774 MiB, 2.51% gc time)\n"
     ]
    },
    {
     "data": {
      "text/plain": [
       "10-element SArray{Tuple{10},Float64,1,10}:\n",
       " 0.14502310546324804\n",
       " 0.14334832301613387\n",
       " 0.2648959007333165 \n",
       " 0.5378812297108322 \n",
       " 0.9098005835242389 \n",
       " 0.0891942162577819 \n",
       " 0.19896973691987618\n",
       " 0.5727559441660186 \n",
       " 0.3863326895524921 \n",
       " 0.9561208200424756 "
      ]
     },
     "execution_count": 9,
     "metadata": {},
     "output_type": "execute_result"
    }
   ],
   "source": [
    "function static_sort(v, ::Val{p}) where {p}\n",
    "    v[p]\n",
    "end\n",
    "\n",
    "p_val = Val(p_static)\n",
    "\n",
    "@time static_sort(v, p_val)"
   ]
  },
  {
   "cell_type": "markdown",
   "metadata": {},
   "source": [
    "We can see it's relatively slow to compile. However, let's benchmark the runtime."
   ]
  },
  {
   "cell_type": "code",
   "execution_count": 10,
   "metadata": {},
   "outputs": [
    {
     "name": "stdout",
     "output_type": "stream",
     "text": [
      "  4.694 ns (0 allocations: 0 bytes)\n"
     ]
    }
   ],
   "source": [
    "@btime static_sort($v, $p_val);"
   ]
  },
  {
   "cell_type": "markdown",
   "metadata": {},
   "source": [
    "Less than 5 nanoseconds! Much faster now. We can see why this is by inspecting the typed code:"
   ]
  },
  {
   "cell_type": "code",
   "execution_count": 11,
   "metadata": {},
   "outputs": [
    {
     "data": {
      "text/plain": [
       "CodeInfo(\n",
       "\u001b[90m1 ─\u001b[39m       (Base.arraysize)(v, 1)\u001b[90m::Int64\u001b[39m\n",
       "\u001b[90m│  \u001b[39m %2  = (Base.arrayref)(true, v, 3)\u001b[36m::Float64\u001b[39m\n",
       "\u001b[90m│  \u001b[39m %3  = (Base.arrayref)(true, v, 2)\u001b[36m::Float64\u001b[39m\n",
       "\u001b[90m│  \u001b[39m %4  = (Base.arrayref)(true, v, 7)\u001b[36m::Float64\u001b[39m\n",
       "\u001b[90m│  \u001b[39m %5  = (Base.arrayref)(true, v, 6)\u001b[36m::Float64\u001b[39m\n",
       "\u001b[90m│  \u001b[39m %6  = (Base.arrayref)(true, v, 9)\u001b[36m::Float64\u001b[39m\n",
       "\u001b[90m│  \u001b[39m %7  = (Base.arrayref)(true, v, 4)\u001b[36m::Float64\u001b[39m\n",
       "\u001b[90m│  \u001b[39m %8  = (Base.arrayref)(true, v, 1)\u001b[36m::Float64\u001b[39m\n",
       "\u001b[90m│  \u001b[39m %9  = (Base.arrayref)(true, v, 5)\u001b[36m::Float64\u001b[39m\n",
       "\u001b[90m│  \u001b[39m %10 = (Base.arrayref)(true, v, 10)\u001b[36m::Float64\u001b[39m\n",
       "\u001b[90m│  \u001b[39m %11 = (Base.arrayref)(true, v, 8)\u001b[36m::Float64\u001b[39m\n",
       "\u001b[90m│  \u001b[39m %12 = (StaticArrays.tuple)(%2, %3, %4, %5, %6, %7, %8, %9, %10, %11)\u001b[36m::NTuple{10,Float64}\u001b[39m\n",
       "\u001b[90m│  \u001b[39m %13 = %new(SArray{Tuple{10},Float64,1,10}, %12)\u001b[36m::SArray{Tuple{10},Float64,1,10}\u001b[39m\n",
       "\u001b[90m└──\u001b[39m       return %13\n",
       ") => SArray{Tuple{10},Float64,1,10}"
      ]
     },
     "execution_count": 11,
     "metadata": {},
     "output_type": "execute_result"
    }
   ],
   "source": [
    "@code_typed static_sort(v, p_val)"
   ]
  },
  {
   "cell_type": "markdown",
   "metadata": {},
   "source": [
    "Or even the native assembly instructions:"
   ]
  },
  {
   "cell_type": "code",
   "execution_count": 12,
   "metadata": {},
   "outputs": [
    {
     "name": "stdout",
     "output_type": "stream",
     "text": [
      "\t.section\t__TEXT,__text,regular,pure_instructions\n",
      "; ┌ @ In[9]:2 within `static_sort'\n",
      "\tpushl\t%ebp\n",
      "\tdecl\t%eax\n",
      "\tmovl\t%esp, %ebp\n",
      "; │┌ @ abstractarray.jl:927 within `getindex'\n",
      "; ││┌ @ indexing.jl:208 within `_getindex' @ indexing.jl:213\n",
      "; │││┌ @ indexing.jl:244 within `macro expansion'\n",
      "; ││││┌ @ array.jl:729 within `getindex'\n",
      "\tincl\t%ecx\n",
      "\tpushl\t%esi\n",
      "\tpushl\t%ebx\n",
      "\tdecl\t%eax\n",
      "\tmovl\t8(%esi), %eax\n",
      "\tdecl\t%eax\n",
      "\tcmpl\t$2, %eax\n",
      "\tjbe\tL140\n",
      "\tdecl\t%eax\n",
      "\tcmpl\t$6, %eax\n",
      "\tjbe\tL181\n",
      "\tdecl\t%eax\n",
      "\tcmpl\t$8, %eax\n",
      "\tjbe\tL222\n",
      "\tdecl\t%eax\n",
      "\tcmpl\t$9, %eax\n",
      "\tje\tL263\n",
      "\tdecl\t%eax\n",
      "\tmovl\t(%esi), %eax\n",
      "\tdecl\t%esp\n",
      "\tmovl\t16(%eax), %ecx\n",
      "\tdecl\t%esp\n",
      "\tmovl\t(%eax), %eax\n",
      "\tdecl\t%eax\n",
      "\tmovl\t8(%eax), %esi\n",
      "\tdecl\t%eax\n",
      "\tmovl\t48(%eax), %edx\n",
      "\tdecl\t%eax\n",
      "\tmovl\t40(%eax), %ecx\n",
      "\tdecl\t%esp\n",
      "\tmovl\t64(%eax), %edx\n",
      "\tdecl\t%esp\n",
      "\tmovl\t24(%eax), %ebx\n",
      "\tdecl\t%eax\n",
      "\tmovl\t32(%eax), %ebx\n",
      "\tdecl\t%esp\n",
      "\tmovl\t72(%eax), %esi\n",
      "\tdecl\t%eax\n",
      "\tmovl\t56(%eax), %eax\n",
      "; │└└└└\n",
      "\tdecl\t%esp\n",
      "\tmovl\t%ecx, (%edi)\n",
      "\tdecl\t%eax\n",
      "\tmovl\t%esi, 8(%edi)\n",
      "\tdecl\t%eax\n",
      "\tmovl\t%edx, 16(%edi)\n",
      "\tdecl\t%eax\n",
      "\tmovl\t%ecx, 24(%edi)\n",
      "\tdecl\t%esp\n",
      "\tmovl\t%edx, 32(%edi)\n",
      "\tdecl\t%esp\n",
      "\tmovl\t%ebx, 40(%edi)\n",
      "\tdecl\t%esp\n",
      "\tmovl\t%eax, 48(%edi)\n",
      "\tdecl\t%eax\n",
      "\tmovl\t%ebx, 56(%edi)\n",
      "\tdecl\t%esp\n",
      "\tmovl\t%esi, 64(%edi)\n",
      "\tdecl\t%eax\n",
      "\tmovl\t%eax, 72(%edi)\n",
      "\tdecl\t%eax\n",
      "\tmovl\t%edi, %eax\n",
      "\tdecl\t%eax\n",
      "\tleal\t-16(%ebp), %esp\n",
      "\tpopl\t%ebx\n",
      "\tincl\t%ecx\n",
      "\tpopl\t%esi\n",
      "\tpopl\t%ebp\n",
      "\tretl\n",
      "; │┌ @ abstractarray.jl:927 within `getindex'\n",
      "; ││┌ @ indexing.jl:208 within `_getindex' @ indexing.jl:213\n",
      "; │││┌ @ indexing.jl:244 within `macro expansion'\n",
      "; ││││┌ @ array.jl:729 within `getindex'\n",
      "L140:\n",
      "\tdecl\t%eax\n",
      "\tmovl\t%esp, %ecx\n",
      "\tdecl\t%eax\n",
      "\tleal\t-16(%ecx), %eax\n",
      "\tdecl\t%eax\n",
      "\tmovl\t%eax, %esp\n",
      "\tdecl\t%eax\n",
      "\tmovl\t$3, -16(%ecx)\n",
      "\tdecl\t%eax\n",
      "\tmovl\t$95606064, %ecx         ## imm = 0x5B2D530\n",
      "\taddl\t%eax, (%eax)\n",
      "\taddb\t%al, (%eax)\n",
      "\tmovl\t$1, %edx\n",
      "\tdecl\t%eax\n",
      "\tmovl\t%esi, %edi\n",
      "\tdecl\t%eax\n",
      "\tmovl\t%eax, %esi\n",
      "\tcalll\t*%ecx\n",
      "L181:\n",
      "\tdecl\t%eax\n",
      "\tmovl\t%esp, %ecx\n",
      "\tdecl\t%eax\n",
      "\tleal\t-16(%ecx), %eax\n",
      "\tdecl\t%eax\n",
      "\tmovl\t%eax, %esp\n",
      "\tdecl\t%eax\n",
      "\tmovl\t$7, -16(%ecx)\n",
      "\tdecl\t%eax\n",
      "\tmovl\t$95606064, %ecx         ## imm = 0x5B2D530\n",
      "\taddl\t%eax, (%eax)\n",
      "\taddb\t%al, (%eax)\n",
      "\tmovl\t$1, %edx\n",
      "\tdecl\t%eax\n",
      "\tmovl\t%esi, %edi\n",
      "\tdecl\t%eax\n",
      "\tmovl\t%eax, %esi\n",
      "\tcalll\t*%ecx\n",
      "L222:\n",
      "\tdecl\t%eax\n",
      "\tmovl\t%esp, %ecx\n",
      "\tdecl\t%eax\n",
      "\tleal\t-16(%ecx), %eax\n",
      "\tdecl\t%eax\n",
      "\tmovl\t%eax, %esp\n",
      "\tdecl\t%eax\n",
      "\tmovl\t$9, -16(%ecx)\n",
      "\tdecl\t%eax\n",
      "\tmovl\t$95606064, %ecx         ## imm = 0x5B2D530\n",
      "\taddl\t%eax, (%eax)\n",
      "\taddb\t%al, (%eax)\n",
      "\tmovl\t$1, %edx\n",
      "\tdecl\t%eax\n",
      "\tmovl\t%esi, %edi\n",
      "\tdecl\t%eax\n",
      "\tmovl\t%eax, %esi\n",
      "\tcalll\t*%ecx\n",
      "L263:\n",
      "\tdecl\t%eax\n",
      "\tmovl\t%esp, %ecx\n",
      "\tdecl\t%eax\n",
      "\tleal\t-16(%ecx), %eax\n",
      "\tdecl\t%eax\n",
      "\tmovl\t%eax, %esp\n",
      "\tdecl\t%eax\n",
      "\tmovl\t$10, -16(%ecx)\n",
      "\tdecl\t%eax\n",
      "\tmovl\t$95606064, %ecx         ## imm = 0x5B2D530\n",
      "\taddl\t%eax, (%eax)\n",
      "\taddb\t%al, (%eax)\n",
      "\tmovl\t$1, %edx\n",
      "\tdecl\t%eax\n",
      "\tmovl\t%esi, %edi\n",
      "\tdecl\t%eax\n",
      "\tmovl\t%eax, %esi\n",
      "\tcalll\t*%ecx\n",
      "; └└└└└\n"
     ]
    }
   ],
   "source": [
    "@code_native static_sort(v, p_val)"
   ]
  },
  {
   "cell_type": "markdown",
   "metadata": {},
   "source": [
    "This can be compared to the dynamic version:"
   ]
  },
  {
   "cell_type": "code",
   "execution_count": 13,
   "metadata": {},
   "outputs": [
    {
     "data": {
      "text/plain": [
       "CodeInfo(\n",
       "\u001b[90m1 ──\u001b[39m       (Base.arraysize)(v, 1)\u001b[90m::Int64\u001b[39m\n",
       "\u001b[90m└───\u001b[39m       goto #18 if not true\n",
       "\u001b[90m2 ──\u001b[39m %3  = (Core.tuple)(p)\u001b[36m::Tuple{Array{Int64,1}}\u001b[39m\n",
       "\u001b[90m│   \u001b[39m %4  = (Base.arraysize)(v, 1)\u001b[36m::Int64\u001b[39m\n",
       "\u001b[90m│   \u001b[39m %5  = (Base.slt_int)(%4, 0)\u001b[36m::Bool\u001b[39m\n",
       "\u001b[90m│   \u001b[39m %6  = (Base.ifelse)(%5, 0, %4)\u001b[36m::Int64\u001b[39m\n",
       "\u001b[90m│   \u001b[39m %7  = (Base.arraylen)(p)\u001b[36m::Int64\u001b[39m\n",
       "\u001b[90m│   \u001b[39m %8  = (Base.sle_int)(0, %7)\u001b[36m::Bool\u001b[39m\n",
       "\u001b[90m│   \u001b[39m %9  = (Base.bitcast)(UInt64, %7)\u001b[36m::UInt64\u001b[39m\n",
       "\u001b[90m│   \u001b[39m %10 = (Base.ult_int)(0x0000000000000000, %9)\u001b[36m::Bool\u001b[39m\n",
       "\u001b[90m│   \u001b[39m %11 = (Base.and_int)(%8, %10)\u001b[36m::Bool\u001b[39m\n",
       "\u001b[90m└───\u001b[39m       goto #4 if not %11\n",
       "\u001b[90m3 ──\u001b[39m %13 = (Base.arrayref)(false, p, 1)\u001b[36m::Int64\u001b[39m\n",
       "\u001b[90m└───\u001b[39m       goto #5\n",
       "\u001b[90m4 ──\u001b[39m       goto #5\n",
       "\u001b[90m5 ┄─\u001b[39m %16 = φ (#3 => false, #4 => true)\u001b[36m::Bool\u001b[39m\n",
       "\u001b[90m│   \u001b[39m %17 = φ (#3 => %13)\u001b[36m::Int64\u001b[39m\n",
       "\u001b[90m│   \u001b[39m %18 = φ (#3 => 2)\u001b[36m::Int64\u001b[39m\n",
       "\u001b[90m└───\u001b[39m       goto #6\n",
       "\u001b[90m6 ──\u001b[39m %20 = (Base.not_int)(%16)\u001b[36m::Bool\u001b[39m\n",
       "\u001b[90m└───\u001b[39m       goto #12 if not %20\n",
       "\u001b[90m7 ┄─\u001b[39m %22 = φ (#6 => true, #11 => %28)\u001b[36m::Bool\u001b[39m\n",
       "\u001b[90m│   \u001b[39m %23 = φ (#6 => %17, #11 => %41)\u001b[36m::Int64\u001b[39m\n",
       "\u001b[90m│   \u001b[39m %24 = φ (#6 => %18, #11 => %42)\u001b[36m::Int64\u001b[39m\n",
       "\u001b[90m│   \u001b[39m %25 = (Base.sle_int)(1, %23)\u001b[36m::Bool\u001b[39m\n",
       "\u001b[90m│   \u001b[39m %26 = (Base.sle_int)(%23, %6)\u001b[36m::Bool\u001b[39m\n",
       "\u001b[90m│   \u001b[39m %27 = (Base.and_int)(%25, %26)\u001b[36m::Bool\u001b[39m\n",
       "\u001b[90m│   \u001b[39m %28 = (Base.and_int)(%22, %27)\u001b[36m::Bool\u001b[39m\n",
       "\u001b[90m│   \u001b[39m %29 = (Base.bitcast)(UInt64, %24)\u001b[36m::UInt64\u001b[39m\n",
       "\u001b[90m│   \u001b[39m %30 = (Base.sub_int)(%29, 0x0000000000000001)\u001b[36m::UInt64\u001b[39m\n",
       "\u001b[90m│   \u001b[39m %31 = (Base.arraylen)(p)\u001b[36m::Int64\u001b[39m\n",
       "\u001b[90m│   \u001b[39m %32 = (Base.sle_int)(0, %31)\u001b[36m::Bool\u001b[39m\n",
       "\u001b[90m│   \u001b[39m %33 = (Base.bitcast)(UInt64, %31)\u001b[36m::UInt64\u001b[39m\n",
       "\u001b[90m│   \u001b[39m %34 = (Base.ult_int)(%30, %33)\u001b[36m::Bool\u001b[39m\n",
       "\u001b[90m│   \u001b[39m %35 = (Base.and_int)(%32, %34)\u001b[36m::Bool\u001b[39m\n",
       "\u001b[90m└───\u001b[39m       goto #9 if not %35\n",
       "\u001b[90m8 ──\u001b[39m %37 = (Base.arrayref)(false, p, %24)\u001b[36m::Int64\u001b[39m\n",
       "\u001b[90m│   \u001b[39m %38 = (Base.add_int)(%24, 1)\u001b[36m::Int64\u001b[39m\n",
       "\u001b[90m└───\u001b[39m       goto #10\n",
       "\u001b[90m9 ──\u001b[39m       goto #10\n",
       "\u001b[90m10 ┄\u001b[39m %41 = φ (#8 => %37)\u001b[36m::Int64\u001b[39m\n",
       "\u001b[90m│   \u001b[39m %42 = φ (#8 => %38)\u001b[36m::Int64\u001b[39m\n",
       "\u001b[90m│   \u001b[39m %43 = φ (#8 => false, #9 => true)\u001b[36m::Bool\u001b[39m\n",
       "\u001b[90m│   \u001b[39m %44 = (Base.not_int)(%43)\u001b[36m::Bool\u001b[39m\n",
       "\u001b[90m└───\u001b[39m       goto #12 if not %44\n",
       "\u001b[90m11 ─\u001b[39m       goto #7\n",
       "\u001b[90m12 ┄\u001b[39m %47 = φ (#10 => %28, #6 => true)\u001b[36m::Bool\u001b[39m\n",
       "\u001b[90m└───\u001b[39m       goto #13\n",
       "\u001b[90m13 ─\u001b[39m       goto #14\n",
       "\u001b[90m14 ─\u001b[39m       goto #16 if not %47\n",
       "\u001b[90m15 ─\u001b[39m       goto #17\n",
       "\u001b[90m16 ─\u001b[39m       invoke Base.throw_boundserror(_2::Array{Float64,1}, %3::Tuple{Array{Int64,1}})\u001b[90m::Union{}\u001b[39m\n",
       "\u001b[90m└───\u001b[39m       $(Expr(:unreachable))\u001b[90m::Union{}\u001b[39m\n",
       "\u001b[90m17 ┄\u001b[39m       nothing\u001b[90m::Nothing\u001b[39m\n",
       "\u001b[90m18 ┄\u001b[39m %55 = invoke Base._unsafe_getindex($(QuoteNode(IndexLinear()))::IndexLinear, _2::Array{Float64,1}, _3::Array{Int64,1})\u001b[36m::Array{Float64,1}\u001b[39m\n",
       "\u001b[90m└───\u001b[39m       goto #19\n",
       "\u001b[90m19 ─\u001b[39m       goto #20\n",
       "\u001b[90m20 ─\u001b[39m       return %55\n",
       ") => Array{Float64,1}"
      ]
     },
     "execution_count": 13,
     "metadata": {},
     "output_type": "execute_result"
    }
   ],
   "source": [
    "@code_typed unstatic_sort(v, p)"
   ]
  },
  {
   "cell_type": "markdown",
   "metadata": {},
   "source": [
    "And its assembly instructions:"
   ]
  },
  {
   "cell_type": "code",
   "execution_count": 14,
   "metadata": {},
   "outputs": [
    {
     "name": "stdout",
     "output_type": "stream",
     "text": [
      "\t.section\t__TEXT,__text,regular,pure_instructions\n",
      "; ┌ @ In[4]:1 within `unstatic_sort'\n",
      "\tincl\t%ecx\n",
      "\tpushl\t%edi\n",
      "\tincl\t%ecx\n",
      "\tpushl\t%esi\n",
      "\tincl\t%ecx\n",
      "\tpushl\t%ebp\n",
      "\tincl\t%ecx\n",
      "\tpushl\t%esp\n",
      "\tpushl\t%ebx\n",
      "\tdecl\t%eax\n",
      "\tsubl\t$64, %esp\n",
      "\tvpxor\t%xmm0, %xmm0, %xmm0\n",
      "\tvmovdqa\t%xmm0, (%esp)\n",
      "\tdecl\t%eax\n",
      "\tmovl\t%esi, %ebx\n",
      "\tdecl\t%eax\n",
      "\tmovl\t$0, 16(%esp)\n",
      "\tdecl\t%eax\n",
      "\tmovl\t%ebx, 56(%esp)\n",
      "\tdecl\t%eax\n",
      "\tmovl\t$95475360, %eax         ## imm = 0x5B0D6A0\n",
      "\taddl\t%eax, (%eax)\n",
      "\taddb\t%al, (%eax)\n",
      "\tcalll\t*%eax\n",
      "\tdecl\t%ecx\n",
      "\tmovl\t%eax, %esi\n",
      "\tdecl\t%eax\n",
      "\tmovl\t$2, (%esp)\n",
      "\tdecl\t%ecx\n",
      "\tmovl\t(%esi), %eax\n",
      "\tdecl\t%eax\n",
      "\tmovl\t%eax, 8(%esp)\n",
      "\tdecl\t%eax\n",
      "\tmovl\t%esp, %eax\n",
      "\tdecl\t%ecx\n",
      "\tmovl\t%eax, (%esi)\n",
      "\tdecl\t%esp\n",
      "\tmovl\t(%ebx), %edi\n",
      "\tdecl\t%esp\n",
      "\tmovl\t8(%ebx), %esp\n",
      "; │┌ @ abstractarray.jl:927 within `getindex'\n",
      "; ││┌ @ multidimensional.jl:641 within `_getindex'\n",
      "\tdecl\t%eax\n",
      "\tmovl\t$95486944, %eax         ## imm = 0x5B103E0\n",
      "\taddl\t%eax, (%eax)\n",
      "\taddb\t%al, (%eax)\n",
      "\tmovl\t$1616, %esi             ## imm = 0x650\n",
      "\tmovl\t$16, %edx\n",
      "\tdecl\t%esp\n",
      "\tmovl\t%esi, %edi\n",
      "\tcalll\t*%eax\n",
      "\tdecl\t%eax\n",
      "\tmovl\t$171495584, %ecx        ## imm = 0xA38D0A0\n",
      "\taddl\t%eax, (%eax)\n",
      "\taddb\t%al, (%eax)\n",
      "\tdecl\t%eax\n",
      "\tmovl\t%ecx, -8(%eax)\n",
      "\tdecl\t%esp\n",
      "\tmovl\t%esp, (%eax)\n",
      "; │││┌ @ abstractarray.jl:449 within `checkbounds' @ abstractarray.jl:434\n",
      "; ││││┌ @ abstractarray.jl:518 within `checkindex'\n",
      "; │││││┌ @ array.jl:705 within `iterate' @ array.jl:705\n",
      "; ││││││┌ @ array.jl:199 within `length'\n",
      "\tdecl\t%ebp\n",
      "\tmovl\t8(%esp), %ebp\n",
      "; ││││││└\n",
      "\tdecl\t%ebp\n",
      "\ttestl\t%ebp, %ebp\n",
      "\tjle\tL650\n",
      "; ││││└└\n",
      "; ││││ @ abstractarray.jl:449 within `checkbounds' @ array.jl:155\n",
      "\tdecl\t%ecx\n",
      "\tmovl\t24(%edi), %edx\n",
      "; ││││ @ abstractarray.jl:449 within `checkbounds' @ abstractarray.jl:434\n",
      "; ││││┌ @ abstractarray.jl:214 within `eachindex'\n",
      "; │││││┌ @ abstractarray.jl:93 within `axes1'\n",
      "; ││││││┌ @ promotion.jl:414 within `axes'\n",
      "\tdecl\t%eax\n",
      "\tmovl\t%edx, %esi\n",
      "\tdecl\t%eax\n",
      "\tsarl\t$63, %esi\n",
      "\tlesl\t-56(%edx), %esp\n",
      "\trepne\t\tfimull\t-117(%ebp)\n",
      "\tadcb\t$36, %al\n",
      "\tdecl\t%ecx\n",
      "\tmovl\t(%edx), %edx\n",
      "\tdecl\t%eax\n",
      "\ttestl\t%edx, %edx\n",
      "\tsetg\t%bl\n",
      "\tdecl\t%esp\n",
      "\tcmpl\t%ebx, %edx\n",
      "\tincl\t%eax\n",
      "\tsetle\t%dh\n",
      "\tincl\t%eax\n",
      "\tandb\t%bl, %dh\n",
      "\tdecl\t%ecx\n",
      "\tcmpl\t$1, %ebp\n",
      "\tje\tL645\n",
      "\tdecl\t%ecx\n",
      "\tcmpl\t$2, %ebp\n",
      "\tincl\t%ecx\n",
      "\tmovl\t$2, %eax\n",
      "\tdecl\t%ebp\n",
      "\tcmoval\t%ebp, %eax\n",
      "\tmovl\t$2, %edi\n",
      "\tdecl\t%ecx\n",
      "\taddl\t$-1, %eax\n",
      "\tdecl\t%ecx\n",
      "\tcmpl\t$16, %eax\n",
      "\tjae\tL227\n",
      "\tmovl\t$1, %ebx\n",
      "\tjmp\tL598\n",
      "L227:\n",
      "\tdecl\t%ebp\n",
      "\tmovl\t%eax, %ecx\n",
      "\tdecl\t%ecx\n",
      "\tandl\t$-16, %ecx\n",
      "\tdecl\t%ecx\n",
      "\tleal\t1(%ecx), %ebx\n",
      "\tdecl\t%ecx\n",
      "\tleal\t2(%ecx), %edi\n",
      "\tvmovd\t%ebx, %xmm0\n",
      "\tincl\t%eax\n",
      "\tmovzbl\t%dh, %edx\n",
      "\tdecl\t%eax\n",
      "\tmovl\t$382531920, %esi        ## imm = 0x16CCF950\n",
      "\taddl\t%eax, (%eax)\n",
      "\taddb\t%al, (%eax)\n",
      "\tvmovdqa\t(%esi), %xmm1\n",
      "\tvpinsrd\t$0, %edx, %xmm1, %xmm6\n",
      "\tvpbroadcastq\t%xmm0, %ymm0\n",
      "\tdecl\t%eax\n",
      "\tmovl\t$382531912, %edx        ## imm = 0x16CCF948\n",
      "\taddl\t%eax, (%eax)\n",
      "\taddb\t%al, (%eax)\n",
      "\tvpbroadcastd\t(%edx), %xmm4\n",
      "\tdecl\t%ecx\n",
      "\tleal\t104(%edx), %esi\n",
      "L295:\n",
      "\tlesl\t17(%ecx), %eax\n",
      "\toutl\t%eax, %dx\n",
      "\tinl\t%dx, %eax\n",
      "\tlesl\t13(%ecx), %eax\n",
      "\tjbe\tL295\n",
      "\tdecl\t%eax\n",
      "\tmovl\t$382531916, %edx        ## imm = 0x16CCF94C\n",
      "\taddl\t%eax, (%eax)\n",
      "\taddb\t%al, (%eax)\n",
      "\tvpbroadcastd\t(%edx), %xmm3\n",
      "\tdecl\t%esp\n",
      "\tmovl\t%ecx, %edx\n",
      "\tvmovdqa\t%xmm4, %xmm7\n",
      "\tvmovdqa\t%xmm4, %xmm5\n",
      "\tnopl\t(%eax,%eax)\n",
      "L336:\n",
      "\tldsl\t111(%esi), %edi\n",
      "\tpushl\t%esi\n",
      "\tmovb\t1584365253, %al\n",
      "\trolb\t$126, %ch\n",
      "\toutsl\t(%esi), %dx\n",
      "\tdecl\t%esi\n",
      "\tloopne\t\"iterate;\"\n",
      "\tjle\tL465\n",
      "\tpushl\t%es\n",
      "\tlesl\t45(%edx), %eax\n",
      "\taaa\n",
      "\tinl\t$196, %eax\n",
      "\tarpl\t%di, 57(%ebp)\n",
      "\tloope\t\"<=;\"\n",
      "\tldsl\t-238696085(%ecx), %ebx\n",
      "\tfcmovne\t%st(6), %st(0)\n",
      "\tvpcmpgtq\t%ymm5, %ymm3, %ymm6\n",
      "\tvextracti128\t$1, %ymm6, %xmm2\n",
      "\tvpackssdw\t%xmm2, %xmm6, %xmm2\n",
      "\tvpand\t%xmm4, %xmm2, %xmm2\n",
      "\tvpcmpgtq\t%ymm5, %ymm1, %ymm4\n",
      "\tvextracti128\t$1, %ymm4, %xmm6\n",
      "\tvpackssdw\t%xmm6, %xmm4, %xmm4\n",
      "\tvpand\t%xmm7, %xmm4, %xmm4\n",
      "\tvpcmpgtq\t%ymm5, %ymm0, %ymm6\n",
      "\tvextracti128\t$1, %ymm6, %xmm7\n",
      "\tvpackssdw\t%xmm7, %xmm6, %xmm6\n",
      "\tvpand\t%xmm5, %xmm6, %xmm5\n",
      "\tvpcmpgtq\t%ymm0, %ymm2, %ymm6\n",
      "\tvpxor\t%ymm6, %ymm6, %ymm6\n",
      "\tvextracti128\t$1, %ymm6, %xmm7\n",
      "\tvpackssdw\t%xmm7, %xmm6, %xmm6\n",
      "\tvpand\t%xmm1, %xmm6, %xmm1\n",
      "\tvpcmpgtq\t%ymm0, %ymm3, %ymm6\n",
      "\tvpxor\t%ymm6, %ymm6, %ymm6\n",
      "L465:\n",
      "\tvextracti128\t$1, %ymm6, %xmm7\n",
      "\tvpackssdw\t%xmm7, %xmm6, %xmm6\n",
      "\tvpand\t%xmm2, %xmm6, %xmm2\n",
      "\tvpcmpgtq\t%ymm0, %ymm1, %ymm6\n",
      "\tvpxor\t%ymm6, %ymm6, %ymm6\n",
      "\tvextracti128\t$1, %ymm6, %xmm7\n",
      "\tvpackssdw\t%xmm7, %xmm6, %xmm6\n",
      "\tvpand\t%xmm4, %xmm6, %xmm7\n",
      "\tvpcmpgtq\t%ymm0, %ymm0, %ymm4\n",
      "\tvpxor\t%ymm6, %ymm4, %ymm4\n",
      "\tvextracti128\t$1, %ymm4, %xmm6\n",
      "\tvpackssdw\t%xmm6, %xmm4, %xmm4\n",
      "\tvpand\t%xmm5, %xmm4, %xmm5\n",
      "\tvpand\t%xmm3, %xmm1, %xmm6\n",
      "\tvpand\t%xmm3, %xmm2, %xmm4\n",
      "\tvpand\t%xmm3, %xmm7, %xmm7\n",
      "\tvpand\t%xmm3, %xmm5, %xmm5\n",
      "\tdecl\t%eax\n",
      "\tsubl\t$-128, %esi\n",
      "\tdecl\t%eax\n",
      "\taddl\t$-16, %edx\n",
      "\tjne\tL336\n",
      "\tvpand\t%xmm6, %xmm4, %xmm0\n",
      "\tvpand\t%xmm0, %xmm7, %xmm0\n",
      "\tvpand\t%xmm0, %xmm5, %xmm0\n",
      "\tvpshufd\t$78, %xmm0, %xmm1       ## xmm1 = xmm0[2,3,0,1]\n",
      "\tvpand\t%xmm1, %xmm0, %xmm0\n",
      "\tvpshufd\t$229, %xmm0, %xmm1      ## xmm1 = xmm0[1,1,2,3]\n",
      "\tvpand\t%xmm1, %xmm0, %xmm0\n",
      "\tvpextrb\t$0, %xmm0, %esi\n",
      "\tdecl\t%ebp\n",
      "\tcmpl\t%ecx, %eax\n",
      "\tje\tL645\n",
      "L598:\n",
      "\tdecl\t%eax\n",
      "\tleal\t-1(%edi), %edx\n",
      "\tnopw\t(%eax,%eax)\n",
      "L608:\n",
      "\tdecl\t%ecx\n",
      "\tmovl\t(%edx,%ebx,8), %ebx\n",
      "\tdecl\t%eax\n",
      "\ttestl\t%ebx, %ebx\n",
      "\tsetg\t%cl\n",
      "\tdecl\t%esp\n",
      "\tcmpl\t%ebx, %ebx\n",
      "\tsetle\t%bl\n",
      "\tandb\t%cl, %bl\n",
      "\tincl\t%eax\n",
      "\tandb\t%bl, %dh\n",
      "\tdecl\t%eax\n",
      "\taddl\t$1, %edx\n",
      "\tdecl\t%eax\n",
      "\tmovl\t%edi, %ebx\n",
      "\tdecl\t%eax\n",
      "\tleal\t1(%edi), %edi\n",
      "\tdecl\t%esp\n",
      "\tcmpl\t%ebp, %edx\n",
      "\tjb\tL608\n",
      "L645:\n",
      "\tincl\t%eax\n",
      "\ttestb\t%dh, %dh\n",
      "\tje\tL732\n",
      "L650:\n",
      "\tdecl\t%eax\n",
      "\tmovl\t$173046224, %eax        ## imm = 0xA5079D0\n",
      "\taddl\t%eax, (%eax)\n",
      "\taddb\t%al, (%eax)\n",
      "\tdecl\t%eax\n",
      "\tmovl\t%eax, 32(%esp)\n",
      "\tdecl\t%esp\n",
      "\tmovl\t%edi, 40(%esp)\n",
      "\tdecl\t%esp\n",
      "\tmovl\t%esp, 48(%esp)\n",
      "\tdecl\t%eax\n",
      "\tmovl\t$381241936, %eax        ## imm = 0x16B94A50\n",
      "\taddl\t%eax, (%eax)\n",
      "\taddb\t%al, (%eax)\n",
      "\tdecl\t%eax\n",
      "\tmovl\t$179236448, %edi        ## imm = 0xAAEEE60\n",
      "\taddl\t%eax, (%eax)\n",
      "\taddb\t%al, (%eax)\n",
      "\tdecl\t%eax\n",
      "\tleal\t32(%esp), %esi\n",
      "\tmovl\t$3, %edx\n",
      "\tvzeroupper\n",
      "\tcalll\t*%eax\n",
      "\tdecl\t%eax\n",
      "\tmovl\t8(%esp), %ecx\n",
      "\tdecl\t%ecx\n",
      "\tmovl\t%ecx, (%esi)\n",
      "\tdecl\t%eax\n",
      "\taddl\t$64, %esp\n",
      "\tpopl\t%ebx\n",
      "\tincl\t%ecx\n",
      "\tpopl\t%esp\n",
      "\tincl\t%ecx\n",
      "\tpopl\t%ebp\n",
      "\tincl\t%ecx\n",
      "\tpopl\t%esi\n",
      "\tincl\t%ecx\n",
      "\tpopl\t%edi\n",
      "\tretl\n",
      "L732:\n",
      "\tdecl\t%eax\n",
      "\tmovl\t%eax, 16(%esp)\n",
      "\tdecl\t%esp\n",
      "\tmovl\t%edi, 32(%esp)\n",
      "\tdecl\t%eax\n",
      "\tmovl\t%eax, 40(%esp)\n",
      "\tdecl\t%eax\n",
      "\tmovl\t$381242256, %eax        ## imm = 0x16B94B90\n",
      "\taddl\t%eax, (%eax)\n",
      "\taddb\t%al, (%eax)\n",
      "\tdecl\t%eax\n",
      "\tmovl\t$206874656, %edi        ## imm = 0xC54A820\n",
      "\taddl\t%eax, (%eax)\n",
      "\taddb\t%al, (%eax)\n",
      "\tdecl\t%eax\n",
      "\tleal\t32(%esp), %esi\n",
      "\tmovl\t$2, %edx\n",
      "\tvzeroupper\n",
      "\tcalll\t*%eax\n",
      "\tud2\n",
      "; └└└└└└└\n"
     ]
    }
   ],
   "source": [
    "@code_native unstatic_sort(v, p)"
   ]
  },
  {
   "cell_type": "markdown",
   "metadata": {},
   "source": [
    "Note that if we wish to permute vectors by a different permutation `p'` instead of `p`, the function `static_sort` will compile a new method (which takes about a quarter-second on my laptop) for the new permutation. So this is only a good way to go if we wish to permute many vectors by the same permutation."
   ]
  }
 ],
 "metadata": {
  "kernelspec": {
   "display_name": "Julia 1.1.0",
   "language": "julia",
   "name": "julia-1.1"
  },
  "language_info": {
   "file_extension": ".jl",
   "mimetype": "application/julia",
   "name": "julia",
   "version": "1.1.0"
  }
 },
 "nbformat": 4,
 "nbformat_minor": 2
}
